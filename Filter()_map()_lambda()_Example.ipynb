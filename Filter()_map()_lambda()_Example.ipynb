{
 "cells": [
  {
   "cell_type": "markdown",
   "id": "1c81c98f",
   "metadata": {},
   "source": [
    "# LAMBDA EXAMPLE"
   ]
  },
  {
   "cell_type": "code",
   "execution_count": 5,
   "id": "c9811b6c",
   "metadata": {},
   "outputs": [
    {
     "data": {
      "text/plain": [
       "[1, 3, 5]"
      ]
     },
     "execution_count": 5,
     "metadata": {},
     "output_type": "execute_result"
    }
   ],
   "source": [
    "numbers = [1, -2, 3, -4, 5, -6]\n",
    "positive_numbers = list(filter(lambda x: x >= 0, numbers))\n",
    "positive_numbers"
   ]
  },
  {
   "cell_type": "code",
   "execution_count": 17,
   "id": "2be26497",
   "metadata": {},
   "outputs": [
    {
     "name": "stdout",
     "output_type": "stream",
     "text": [
      "[2, 3, 2, 3]\n"
     ]
    }
   ],
   "source": [
    "numbers = [1, 2, 3, 2, 4, 5, 3, 6]\n",
    "unique_numbers = list(filter(lambda x: numbers.count(x) != 1, numbers))\n",
    "print(unique_numbers)"
   ]
  },
  {
   "cell_type": "code",
   "execution_count": 6,
   "id": "6f128e99",
   "metadata": {},
   "outputs": [
    {
     "data": {
      "text/plain": [
       "['hello', 'world', 'python']"
      ]
     },
     "execution_count": 6,
     "metadata": {},
     "output_type": "execute_result"
    }
   ],
   "source": [
    "words = [\"hello\", \"\", \"world\", \"\", \"python\"]\n",
    "non_empty_words = list(filter(lambda x: x != \"\", words))\n",
    "non_empty_words"
   ]
  },
  {
   "cell_type": "code",
   "execution_count": 7,
   "id": "8bc9f390",
   "metadata": {},
   "outputs": [
    {
     "data": {
      "text/plain": [
       "[-2, -4, -6]"
      ]
     },
     "execution_count": 7,
     "metadata": {},
     "output_type": "execute_result"
    }
   ],
   "source": [
    "numbers = [1, -2, 3, -4, 5, -6]\n",
    "Negative_numbers = list(filter(lambda x: x <= 0, numbers))\n",
    "Negative_numbers"
   ]
  },
  {
   "cell_type": "code",
   "execution_count": 9,
   "id": "d3615b64",
   "metadata": {},
   "outputs": [
    {
     "data": {
      "text/plain": [
       "['', '']"
      ]
     },
     "execution_count": 9,
     "metadata": {},
     "output_type": "execute_result"
    }
   ],
   "source": [
    "words = [\"hello\", \"\", \"world\", \"\", \"python\"]\n",
    "empty_words = list(filter(lambda x: x == \"\", words))\n",
    "empty_words\n"
   ]
  },
  {
   "cell_type": "markdown",
   "id": "06608bed",
   "metadata": {},
   "source": [
    "# MAP EXAMPLE"
   ]
  },
  {
   "cell_type": "code",
   "execution_count": 21,
   "id": "27aa9fe4",
   "metadata": {},
   "outputs": [
    {
     "data": {
      "text/plain": [
       "[2, 4, 6, 8, 10]"
      ]
     },
     "execution_count": 21,
     "metadata": {},
     "output_type": "execute_result"
    }
   ],
   "source": [
    "numbers = [1, 2, 3, 4, 5]\n",
    "squared_numbers = list(map(lambda x: x * 2, numbers))\n",
    "squared_numbers"
   ]
  },
  {
   "cell_type": "code",
   "execution_count": 19,
   "id": "4426061d",
   "metadata": {},
   "outputs": [
    {
     "name": "stdout",
     "output_type": "stream",
     "text": [
      "[1, 4, 9, 16, 25]\n"
     ]
    }
   ],
   "source": [
    "numbers = [1, 2, 3, 4, 5]\n",
    "squared_numbers = list(map(lambda x: x ** 2, numbers))\n",
    "squared_numbers"
   ]
  },
  {
   "cell_type": "code",
   "execution_count": 20,
   "id": "d7c383e5",
   "metadata": {},
   "outputs": [
    {
     "name": "stdout",
     "output_type": "stream",
     "text": [
      "['HELLO', 'WORLD', 'PYTHON']\n"
     ]
    }
   ],
   "source": [
    "words = [\"hello\", \"world\", \"python\"]\n",
    "uppercase_words = list(map(lambda x: x.upper(), words))\n",
    "uppercase_words"
   ]
  },
  {
   "cell_type": "code",
   "execution_count": 22,
   "id": "1ac68474",
   "metadata": {},
   "outputs": [
    {
     "data": {
      "text/plain": [
       "[5, 5, 6]"
      ]
     },
     "execution_count": 22,
     "metadata": {},
     "output_type": "execute_result"
    }
   ],
   "source": [
    "words = [\"hello\", \"world\", \"python\"]\n",
    "uppercase_words = list(map(lambda x: len(x), words))\n",
    "uppercase_words"
   ]
  },
  {
   "cell_type": "code",
   "execution_count": 11,
   "id": "e4b8440b",
   "metadata": {},
   "outputs": [
    {
     "name": "stdout",
     "output_type": "stream",
     "text": [
      "Lower_words = ['hello', 'world', 'python']\n"
     ]
    }
   ],
   "source": [
    "words = ['HELLO', 'WORLD', 'PYTHON']\n",
    "Lower_words = list(map(lambda x: x.lower(), words))\n",
    "print('Lower_words =', Lower_words)"
   ]
  },
  {
   "cell_type": "code",
   "execution_count": 8,
   "id": "75248d36",
   "metadata": {},
   "outputs": [
    {
     "name": "stdout",
     "output_type": "stream",
     "text": [
      "INR = [83.02, 415.09999999999997, 830.1999999999999, 4151.0, 8302.0]\n"
     ]
    }
   ],
   "source": [
    "Doller_Currency_USD = [1, 5, 10, 50, 100]\n",
    "Indian_Currency_INR = list(map(lambda c:c * 83.02, Doller_Currency_USD))\n",
    "print(\"INR =\", Indian_Currency_INR)  "
   ]
  },
  {
   "cell_type": "markdown",
   "id": "be6fd79c",
   "metadata": {},
   "source": [
    "# LAMBDA EXAMPLE"
   ]
  },
  {
   "cell_type": "code",
   "execution_count": 12,
   "id": "834de4a8",
   "metadata": {},
   "outputs": [
    {
     "name": "stdout",
     "output_type": "stream",
     "text": [
      "8\n"
     ]
    }
   ],
   "source": [
    "add = lambda x, y: x + y\n",
    "print(add(3, 5))"
   ]
  },
  {
   "cell_type": "code",
   "execution_count": 16,
   "id": "0b893407",
   "metadata": {},
   "outputs": [
    {
     "name": "stdout",
     "output_type": "stream",
     "text": [
      "2\n"
     ]
    }
   ],
   "source": [
    "sub = lambda x, y: y - x\n",
    "print(sub(3, 5))"
   ]
  },
  {
   "cell_type": "code",
   "execution_count": 20,
   "id": "ce9b5859",
   "metadata": {},
   "outputs": [
    {
     "data": {
      "text/plain": [
       "[2, 4, 6, 8, 10]"
      ]
     },
     "execution_count": 20,
     "metadata": {},
     "output_type": "execute_result"
    }
   ],
   "source": [
    "numbers = [1, 2, 3, 4, 5]\n",
    "squared_numbers = list(map(lambda x: x*2, numbers))\n",
    "squared_numbers"
   ]
  },
  {
   "cell_type": "code",
   "execution_count": 26,
   "id": "6544dbaa",
   "metadata": {},
   "outputs": [
    {
     "data": {
      "text/plain": [
       "[2, 4]"
      ]
     },
     "execution_count": 26,
     "metadata": {},
     "output_type": "execute_result"
    }
   ],
   "source": [
    "numbers = [1, 2, 3, 4, 5]\n",
    "even_numbers = list(filter(lambda x: x%2 == 0 , numbers))\n",
    "even_numbers"
   ]
  },
  {
   "cell_type": "code",
   "execution_count": 27,
   "id": "26f77465",
   "metadata": {},
   "outputs": [
    {
     "data": {
      "text/plain": [
       "[{'name': 'Bob', 'age': 25},\n",
       " {'name': 'Alice', 'age': 30},\n",
       " {'name': 'Charlie', 'age': 35}]"
      ]
     },
     "execution_count": 27,
     "metadata": {},
     "output_type": "execute_result"
    }
   ],
   "source": [
    "people = [{'name': 'Alice', 'age': 30}, {'name': 'Bob', 'age': 25}, {'name': 'Charlie', 'age': 35}]\n",
    "sorted_people = sorted(people, key=lambda x: x['age'])\n",
    "sorted_people"
   ]
  }
 ],
 "metadata": {
  "kernelspec": {
   "display_name": "Python 3 (ipykernel)",
   "language": "python",
   "name": "python3"
  },
  "language_info": {
   "codemirror_mode": {
    "name": "ipython",
    "version": 3
   },
   "file_extension": ".py",
   "mimetype": "text/x-python",
   "name": "python",
   "nbconvert_exporter": "python",
   "pygments_lexer": "ipython3",
   "version": "3.11.5"
  }
 },
 "nbformat": 4,
 "nbformat_minor": 5
}
