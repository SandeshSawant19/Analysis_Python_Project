{
 "cells": [
  {
   "cell_type": "raw",
   "id": "e1ca63d9",
   "metadata": {},
   "source": [
    "Question : Route Filtering\n",
    "\n",
    "Create a python function filter_routes that takes the dataset-1.csv as a DataFrame. The function should return the sorted list of values of column route for which the average of values of truck column is greater than 7.\n",
    "\n",
    "- average of 'truck' column\n",
    "- Average of values of truck column is greater than 7."
   ]
  },
  {
   "cell_type": "code",
   "execution_count": 1,
   "id": "826ebe7e",
   "metadata": {},
   "outputs": [],
   "source": [
    "import pandas as pd"
   ]
  },
  {
   "cell_type": "code",
   "execution_count": 2,
   "id": "319be340",
   "metadata": {},
   "outputs": [
    {
     "data": {
      "text/html": [
       "<div>\n",
       "<style scoped>\n",
       "    .dataframe tbody tr th:only-of-type {\n",
       "        vertical-align: middle;\n",
       "    }\n",
       "\n",
       "    .dataframe tbody tr th {\n",
       "        vertical-align: top;\n",
       "    }\n",
       "\n",
       "    .dataframe thead th {\n",
       "        text-align: right;\n",
       "    }\n",
       "</style>\n",
       "<table border=\"1\" class=\"dataframe\">\n",
       "  <thead>\n",
       "    <tr style=\"text-align: right;\">\n",
       "      <th></th>\n",
       "      <th>id_1</th>\n",
       "      <th>id_2</th>\n",
       "      <th>route</th>\n",
       "      <th>moto</th>\n",
       "      <th>car</th>\n",
       "      <th>rv</th>\n",
       "      <th>bus</th>\n",
       "      <th>truck</th>\n",
       "    </tr>\n",
       "  </thead>\n",
       "  <tbody>\n",
       "    <tr>\n",
       "      <th>0</th>\n",
       "      <td>829</td>\n",
       "      <td>827</td>\n",
       "      <td>1</td>\n",
       "      <td>2.05</td>\n",
       "      <td>4.14</td>\n",
       "      <td>4.14</td>\n",
       "      <td>10.1</td>\n",
       "      <td>15.2</td>\n",
       "    </tr>\n",
       "    <tr>\n",
       "      <th>1</th>\n",
       "      <td>829</td>\n",
       "      <td>821</td>\n",
       "      <td>4</td>\n",
       "      <td>6.63</td>\n",
       "      <td>13.26</td>\n",
       "      <td>13.26</td>\n",
       "      <td>32.4</td>\n",
       "      <td>48.5</td>\n",
       "    </tr>\n",
       "    <tr>\n",
       "      <th>2</th>\n",
       "      <td>829</td>\n",
       "      <td>804</td>\n",
       "      <td>7</td>\n",
       "      <td>14.41</td>\n",
       "      <td>28.92</td>\n",
       "      <td>28.92</td>\n",
       "      <td>64.7</td>\n",
       "      <td>97.0</td>\n",
       "    </tr>\n",
       "    <tr>\n",
       "      <th>3</th>\n",
       "      <td>829</td>\n",
       "      <td>822</td>\n",
       "      <td>6</td>\n",
       "      <td>5.90</td>\n",
       "      <td>11.81</td>\n",
       "      <td>11.81</td>\n",
       "      <td>28.8</td>\n",
       "      <td>43.2</td>\n",
       "    </tr>\n",
       "    <tr>\n",
       "      <th>4</th>\n",
       "      <td>829</td>\n",
       "      <td>826</td>\n",
       "      <td>9</td>\n",
       "      <td>2.87</td>\n",
       "      <td>5.81</td>\n",
       "      <td>5.81</td>\n",
       "      <td>14.2</td>\n",
       "      <td>21.2</td>\n",
       "    </tr>\n",
       "    <tr>\n",
       "      <th>...</th>\n",
       "      <td>...</td>\n",
       "      <td>...</td>\n",
       "      <td>...</td>\n",
       "      <td>...</td>\n",
       "      <td>...</td>\n",
       "      <td>...</td>\n",
       "      <td>...</td>\n",
       "      <td>...</td>\n",
       "    </tr>\n",
       "    <tr>\n",
       "      <th>336</th>\n",
       "      <td>803</td>\n",
       "      <td>802</td>\n",
       "      <td>3</td>\n",
       "      <td>1.70</td>\n",
       "      <td>3.40</td>\n",
       "      <td>3.40</td>\n",
       "      <td>6.9</td>\n",
       "      <td>10.3</td>\n",
       "    </tr>\n",
       "    <tr>\n",
       "      <th>337</th>\n",
       "      <td>803</td>\n",
       "      <td>805</td>\n",
       "      <td>4</td>\n",
       "      <td>3.00</td>\n",
       "      <td>6.00</td>\n",
       "      <td>6.00</td>\n",
       "      <td>12.0</td>\n",
       "      <td>17.9</td>\n",
       "    </tr>\n",
       "    <tr>\n",
       "      <th>338</th>\n",
       "      <td>803</td>\n",
       "      <td>825</td>\n",
       "      <td>3</td>\n",
       "      <td>11.59</td>\n",
       "      <td>23.28</td>\n",
       "      <td>23.28</td>\n",
       "      <td>50.1</td>\n",
       "      <td>75.2</td>\n",
       "    </tr>\n",
       "    <tr>\n",
       "      <th>339</th>\n",
       "      <td>803</td>\n",
       "      <td>806</td>\n",
       "      <td>9</td>\n",
       "      <td>3.80</td>\n",
       "      <td>7.70</td>\n",
       "      <td>7.70</td>\n",
       "      <td>15.3</td>\n",
       "      <td>23.0</td>\n",
       "    </tr>\n",
       "    <tr>\n",
       "      <th>340</th>\n",
       "      <td>803</td>\n",
       "      <td>830</td>\n",
       "      <td>1</td>\n",
       "      <td>16.18</td>\n",
       "      <td>32.47</td>\n",
       "      <td>32.47</td>\n",
       "      <td>72.6</td>\n",
       "      <td>108.8</td>\n",
       "    </tr>\n",
       "  </tbody>\n",
       "</table>\n",
       "<p>341 rows × 8 columns</p>\n",
       "</div>"
      ],
      "text/plain": [
       "     id_1  id_2  route   moto    car     rv   bus  truck\n",
       "0     829   827      1   2.05   4.14   4.14  10.1   15.2\n",
       "1     829   821      4   6.63  13.26  13.26  32.4   48.5\n",
       "2     829   804      7  14.41  28.92  28.92  64.7   97.0\n",
       "3     829   822      6   5.90  11.81  11.81  28.8   43.2\n",
       "4     829   826      9   2.87   5.81   5.81  14.2   21.2\n",
       "..    ...   ...    ...    ...    ...    ...   ...    ...\n",
       "336   803   802      3   1.70   3.40   3.40   6.9   10.3\n",
       "337   803   805      4   3.00   6.00   6.00  12.0   17.9\n",
       "338   803   825      3  11.59  23.28  23.28  50.1   75.2\n",
       "339   803   806      9   3.80   7.70   7.70  15.3   23.0\n",
       "340   803   830      1  16.18  32.47  32.47  72.6  108.8\n",
       "\n",
       "[341 rows x 8 columns]"
      ]
     },
     "execution_count": 2,
     "metadata": {},
     "output_type": "execute_result"
    }
   ],
   "source": [
    "filter_routes = pd.read_csv(\"C:\\\\Users\\\\VINIT SANDESH\\\\Desktop\\\\DATA ANALYTICS\\\\PYTHON\\\\PROJECT DATASETS\\\\TRAVEL AGENCY.csv\")\n",
    "filter_routes"
   ]
  },
  {
   "cell_type": "code",
   "execution_count": 3,
   "id": "7074edb8",
   "metadata": {},
   "outputs": [
    {
     "data": {
      "text/plain": [
       "(341, 8)"
      ]
     },
     "execution_count": 3,
     "metadata": {},
     "output_type": "execute_result"
    }
   ],
   "source": [
    "filter_routes.shape"
   ]
  },
  {
   "cell_type": "code",
   "execution_count": 4,
   "id": "62acbee1",
   "metadata": {},
   "outputs": [
    {
     "data": {
      "text/plain": [
       "route\n",
       "1     49.164103\n",
       "2     41.403125\n",
       "3     50.075000\n",
       "4     51.096774\n",
       "5     43.327778\n",
       "6     47.952500\n",
       "7     52.525862\n",
       "8     46.128571\n",
       "9     54.531429\n",
       "10    41.400000\n",
       "Name: truck, dtype: float64"
      ]
     },
     "execution_count": 4,
     "metadata": {},
     "output_type": "execute_result"
    }
   ],
   "source": [
    "avg_truck_by_route = filter_routes.groupby('route')['truck'].mean()\n",
    "avg_truck_by_route"
   ]
  },
  {
   "cell_type": "code",
   "execution_count": 8,
   "id": "be5e1871",
   "metadata": {},
   "outputs": [
    {
     "data": {
      "text/plain": [
       "Index([1, 2, 3, 4, 5, 6, 7, 8, 9, 10], dtype='int64', name='route')"
      ]
     },
     "execution_count": 8,
     "metadata": {},
     "output_type": "execute_result"
    }
   ],
   "source": [
    "selected_routes = avg_truck_by_route[filter_routes > 7].index\n",
    "selected_routes"
   ]
  },
  {
   "cell_type": "code",
   "execution_count": null,
   "id": "ea5cd5a0",
   "metadata": {},
   "outputs": [],
   "source": [
    "selected_routes = avg_truck_by_route[avg_truck_by_route > 7].index"
   ]
  },
  {
   "cell_type": "code",
   "execution_count": 6,
   "id": "b2765575",
   "metadata": {},
   "outputs": [
    {
     "data": {
      "text/plain": [
       "route\n",
       "10    41.400000\n",
       "2     41.403125\n",
       "5     43.327778\n",
       "8     46.128571\n",
       "6     47.952500\n",
       "1     49.164103\n",
       "3     50.075000\n",
       "4     51.096774\n",
       "7     52.525862\n",
       "9     54.531429\n",
       "Name: truck, dtype: float64"
      ]
     },
     "execution_count": 6,
     "metadata": {},
     "output_type": "execute_result"
    }
   ],
   "source": [
    "avg_truck_by_route.sort_values()"
   ]
  },
  {
   "cell_type": "code",
   "execution_count": null,
   "id": "4e08cd79",
   "metadata": {},
   "outputs": [],
   "source": []
  }
 ],
 "metadata": {
  "kernelspec": {
   "display_name": "Python 3 (ipykernel)",
   "language": "python",
   "name": "python3"
  },
  "language_info": {
   "codemirror_mode": {
    "name": "ipython",
    "version": 3
   },
   "file_extension": ".py",
   "mimetype": "text/x-python",
   "name": "python",
   "nbconvert_exporter": "python",
   "pygments_lexer": "ipython3",
   "version": "3.11.5"
  }
 },
 "nbformat": 4,
 "nbformat_minor": 5
}
