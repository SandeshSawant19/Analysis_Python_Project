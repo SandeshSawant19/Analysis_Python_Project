{
 "cells": [
  {
   "cell_type": "code",
   "execution_count": 2,
   "id": "4f4885f4",
   "metadata": {},
   "outputs": [
    {
     "data": {
      "text/html": [
       "<div>\n",
       "<style scoped>\n",
       "    .dataframe tbody tr th:only-of-type {\n",
       "        vertical-align: middle;\n",
       "    }\n",
       "\n",
       "    .dataframe tbody tr th {\n",
       "        vertical-align: top;\n",
       "    }\n",
       "\n",
       "    .dataframe thead th {\n",
       "        text-align: right;\n",
       "    }\n",
       "</style>\n",
       "<table border=\"1\" class=\"dataframe\">\n",
       "  <thead>\n",
       "    <tr style=\"text-align: right;\">\n",
       "      <th></th>\n",
       "      <th>Unnamed: 0</th>\n",
       "      <th>ProductID</th>\n",
       "      <th>QuantitySold</th>\n",
       "      <th>Price</th>\n",
       "      <th>Discount</th>\n",
       "      <th>Category</th>\n",
       "      <th>Supplier</th>\n",
       "      <th>Date</th>\n",
       "      <th>CustomerID</th>\n",
       "      <th>Country</th>\n",
       "      <th>Profit</th>\n",
       "    </tr>\n",
       "  </thead>\n",
       "  <tbody>\n",
       "    <tr>\n",
       "      <th>0</th>\n",
       "      <td>0</td>\n",
       "      <td>C</td>\n",
       "      <td>8</td>\n",
       "      <td>75.539471</td>\n",
       "      <td>0.064576</td>\n",
       "      <td>Toys</td>\n",
       "      <td>Supplier1</td>\n",
       "      <td>01-01-2022</td>\n",
       "      <td>1148</td>\n",
       "      <td>USA</td>\n",
       "      <td>20.835021</td>\n",
       "    </tr>\n",
       "    <tr>\n",
       "      <th>1</th>\n",
       "      <td>1</td>\n",
       "      <td>A</td>\n",
       "      <td>8</td>\n",
       "      <td>43.100482</td>\n",
       "      <td>0.142251</td>\n",
       "      <td>Toys</td>\n",
       "      <td>Supplier3</td>\n",
       "      <td>02-01-2022</td>\n",
       "      <td>1079</td>\n",
       "      <td>USA</td>\n",
       "      <td>11.003640</td>\n",
       "    </tr>\n",
       "    <tr>\n",
       "      <th>2</th>\n",
       "      <td>2</td>\n",
       "      <td>C</td>\n",
       "      <td>3</td>\n",
       "      <td>66.907525</td>\n",
       "      <td>0.198508</td>\n",
       "      <td>Clothing</td>\n",
       "      <td>Supplier2</td>\n",
       "      <td>03-01-2022</td>\n",
       "      <td>1885</td>\n",
       "      <td>Canada</td>\n",
       "      <td>6.896583</td>\n",
       "    </tr>\n",
       "    <tr>\n",
       "      <th>3</th>\n",
       "      <td>3</td>\n",
       "      <td>C</td>\n",
       "      <td>1</td>\n",
       "      <td>67.017674</td>\n",
       "      <td>0.071013</td>\n",
       "      <td>Home</td>\n",
       "      <td>Supplier3</td>\n",
       "      <td>04-01-2022</td>\n",
       "      <td>1212</td>\n",
       "      <td>USA</td>\n",
       "      <td>8.221993</td>\n",
       "    </tr>\n",
       "    <tr>\n",
       "      <th>4</th>\n",
       "      <td>4</td>\n",
       "      <td>A</td>\n",
       "      <td>8</td>\n",
       "      <td>58.219722</td>\n",
       "      <td>0.127749</td>\n",
       "      <td>Toys</td>\n",
       "      <td>Supplier3</td>\n",
       "      <td>05-01-2022</td>\n",
       "      <td>1202</td>\n",
       "      <td>UK</td>\n",
       "      <td>8.201146</td>\n",
       "    </tr>\n",
       "  </tbody>\n",
       "</table>\n",
       "</div>"
      ],
      "text/plain": [
       "   Unnamed: 0 ProductID  QuantitySold      Price  Discount  Category  \\\n",
       "0           0         C             8  75.539471  0.064576      Toys   \n",
       "1           1         A             8  43.100482  0.142251      Toys   \n",
       "2           2         C             3  66.907525  0.198508  Clothing   \n",
       "3           3         C             1  67.017674  0.071013      Home   \n",
       "4           4         A             8  58.219722  0.127749      Toys   \n",
       "\n",
       "    Supplier        Date  CustomerID Country     Profit  \n",
       "0  Supplier1  01-01-2022        1148     USA  20.835021  \n",
       "1  Supplier3  02-01-2022        1079     USA  11.003640  \n",
       "2  Supplier2  03-01-2022        1885  Canada   6.896583  \n",
       "3  Supplier3  04-01-2022        1212     USA   8.221993  \n",
       "4  Supplier3  05-01-2022        1202      UK   8.201146  "
      ]
     },
     "execution_count": 2,
     "metadata": {},
     "output_type": "execute_result"
    }
   ],
   "source": [
    "import pandas as pd\n",
    "\n",
    "df = pd.read_csv(\"C:\\\\Users\\\\VINIT SANDESH\\\\Desktop\\\\DATA ANALYTICS\\\\PYTHON\\\\PROJECT DATASETS\\\\sales_data.csv\")\n",
    "df.head()"
   ]
  },
  {
   "cell_type": "code",
   "execution_count": 6,
   "id": "3ecc5f5c",
   "metadata": {},
   "outputs": [
    {
     "name": "stdout",
     "output_type": "stream",
     "text": [
      "Total_revenue_Of_each_Product : ProductID\n",
      "A    1887.270345\n",
      "B    1937.498544\n",
      "C    1834.134594\n",
      "Name: Price, dtype: float64\n"
     ]
    }
   ],
   "source": [
    "#Let us calculate total revenue for each product:\n",
    "\n",
    "Total_revenue_Of_each_Product = df.groupby('ProductID')['Price'].sum()\n",
    "print(\"Total_revenue_Of_each_Product :\", Total_revenue_Of_each_Product)"
   ]
  },
  {
   "cell_type": "code",
   "execution_count": 13,
   "id": "0756f43e",
   "metadata": {},
   "outputs": [
    {
     "name": "stdout",
     "output_type": "stream",
     "text": [
      "overall_Total_Revenue is : 5658.903482999999\n"
     ]
    }
   ],
   "source": [
    "#Let us calculate overall total revenue:\n",
    "\n",
    "overall_Total_Revenue = df['Price'].sum()\n",
    "print(\"overall_Total_Revenue is :\", overall_Total_Revenue)"
   ]
  },
  {
   "cell_type": "code",
   "execution_count": 14,
   "id": "a186e43a",
   "metadata": {},
   "outputs": [
    {
     "name": "stdout",
     "output_type": "stream",
     "text": [
      "average_profit_margin_per_product is : ProductID\n",
      "A    258.236261\n",
      "B    256.069989\n",
      "C    319.860763\n",
      "Name: ProfitMargin, dtype: float64\n"
     ]
    }
   ],
   "source": [
    "#Average profit margin for each product:\n",
    "\n",
    "df['ProfitMargin'] = (df['Price'] - df['Discount']) * df['QuantitySold']\n",
    "\n",
    "average_profit_margin_per_product = df.groupby('ProductID')['ProfitMargin'].mean()\n",
    "print(\"average_profit_margin_per_product is :\", average_profit_margin_per_product)"
   ]
  },
  {
   "cell_type": "code",
   "execution_count": 16,
   "id": "bfd70873",
   "metadata": {},
   "outputs": [
    {
     "data": {
      "text/plain": [
       "ProductID\n",
       "B    172\n",
       "C    164\n",
       "A    154\n",
       "Name: QuantitySold, dtype: int64"
      ]
     },
     "execution_count": 16,
     "metadata": {},
     "output_type": "execute_result"
    }
   ],
   "source": [
    "#top-selling products:\n",
    "\n",
    "a = df.groupby('ProductID')['QuantitySold'].sum().nlargest(5)\n",
    "a"
   ]
  },
  {
   "cell_type": "code",
   "execution_count": 21,
   "id": "6e8e3f6f",
   "metadata": {},
   "outputs": [
    {
     "data": {
      "text/plain": [
       "Category\n",
       "Electronics    160\n",
       "Toys           148\n",
       "Home           111\n",
       "Clothing        71\n",
       "Name: QuantitySold, dtype: int64"
      ]
     },
     "execution_count": 21,
     "metadata": {},
     "output_type": "execute_result"
    }
   ],
   "source": [
    "#top-selling Catogory:\n",
    "\n",
    "b = df.groupby('Category')['QuantitySold'].sum().nlargest(5)\n",
    "b"
   ]
  },
  {
   "cell_type": "code",
   "execution_count": null,
   "id": "dd282bc2",
   "metadata": {},
   "outputs": [],
   "source": []
  }
 ],
 "metadata": {
  "kernelspec": {
   "display_name": "Python 3 (ipykernel)",
   "language": "python",
   "name": "python3"
  },
  "language_info": {
   "codemirror_mode": {
    "name": "ipython",
    "version": 3
   },
   "file_extension": ".py",
   "mimetype": "text/x-python",
   "name": "python",
   "nbconvert_exporter": "python",
   "pygments_lexer": "ipython3",
   "version": "3.11.5"
  }
 },
 "nbformat": 4,
 "nbformat_minor": 5
}
