{
 "cells": [
  {
   "cell_type": "code",
   "execution_count": 1,
   "id": "95753629",
   "metadata": {},
   "outputs": [],
   "source": [
    "import pandas as pd\n",
    "import numpy as np"
   ]
  },
  {
   "cell_type": "code",
   "execution_count": 3,
   "id": "74dab78d",
   "metadata": {},
   "outputs": [],
   "source": [
    "df = pd.read_csv(\"C:\\\\Users\\\\VINIT SANDESH\\\\Desktop\\\\DATA ANALYTICS\\\\PYTHON\\\\PROJECT FILE\\\\sales_data.csv\")"
   ]
  },
  {
   "cell_type": "code",
   "execution_count": 6,
   "id": "4c32e262",
   "metadata": {},
   "outputs": [
    {
     "data": {
      "text/html": [
       "<div>\n",
       "<style scoped>\n",
       "    .dataframe tbody tr th:only-of-type {\n",
       "        vertical-align: middle;\n",
       "    }\n",
       "\n",
       "    .dataframe tbody tr th {\n",
       "        vertical-align: top;\n",
       "    }\n",
       "\n",
       "    .dataframe thead th {\n",
       "        text-align: right;\n",
       "    }\n",
       "</style>\n",
       "<table border=\"1\" class=\"dataframe\">\n",
       "  <thead>\n",
       "    <tr style=\"text-align: right;\">\n",
       "      <th></th>\n",
       "      <th>Unnamed: 0</th>\n",
       "      <th>ProductID</th>\n",
       "      <th>QuantitySold</th>\n",
       "      <th>Price</th>\n",
       "      <th>Discount</th>\n",
       "      <th>Category</th>\n",
       "      <th>Supplier</th>\n",
       "      <th>Date</th>\n",
       "      <th>CustomerID</th>\n",
       "      <th>Country</th>\n",
       "      <th>Profit</th>\n",
       "    </tr>\n",
       "  </thead>\n",
       "  <tbody>\n",
       "    <tr>\n",
       "      <th>0</th>\n",
       "      <td>0</td>\n",
       "      <td>C</td>\n",
       "      <td>8</td>\n",
       "      <td>75.539471</td>\n",
       "      <td>0.064576</td>\n",
       "      <td>Toys</td>\n",
       "      <td>Supplier1</td>\n",
       "      <td>01-01-2022</td>\n",
       "      <td>1148</td>\n",
       "      <td>USA</td>\n",
       "      <td>20.835021</td>\n",
       "    </tr>\n",
       "    <tr>\n",
       "      <th>1</th>\n",
       "      <td>1</td>\n",
       "      <td>A</td>\n",
       "      <td>8</td>\n",
       "      <td>43.100482</td>\n",
       "      <td>0.142251</td>\n",
       "      <td>Toys</td>\n",
       "      <td>Supplier3</td>\n",
       "      <td>02-01-2022</td>\n",
       "      <td>1079</td>\n",
       "      <td>USA</td>\n",
       "      <td>11.003640</td>\n",
       "    </tr>\n",
       "    <tr>\n",
       "      <th>2</th>\n",
       "      <td>2</td>\n",
       "      <td>C</td>\n",
       "      <td>3</td>\n",
       "      <td>66.907525</td>\n",
       "      <td>0.198508</td>\n",
       "      <td>Clothing</td>\n",
       "      <td>Supplier2</td>\n",
       "      <td>03-01-2022</td>\n",
       "      <td>1885</td>\n",
       "      <td>Canada</td>\n",
       "      <td>6.896583</td>\n",
       "    </tr>\n",
       "    <tr>\n",
       "      <th>3</th>\n",
       "      <td>3</td>\n",
       "      <td>C</td>\n",
       "      <td>1</td>\n",
       "      <td>67.017674</td>\n",
       "      <td>0.071013</td>\n",
       "      <td>Home</td>\n",
       "      <td>Supplier3</td>\n",
       "      <td>04-01-2022</td>\n",
       "      <td>1212</td>\n",
       "      <td>USA</td>\n",
       "      <td>8.221993</td>\n",
       "    </tr>\n",
       "    <tr>\n",
       "      <th>4</th>\n",
       "      <td>4</td>\n",
       "      <td>A</td>\n",
       "      <td>8</td>\n",
       "      <td>58.219722</td>\n",
       "      <td>0.127749</td>\n",
       "      <td>Toys</td>\n",
       "      <td>Supplier3</td>\n",
       "      <td>05-01-2022</td>\n",
       "      <td>1202</td>\n",
       "      <td>UK</td>\n",
       "      <td>8.201146</td>\n",
       "    </tr>\n",
       "    <tr>\n",
       "      <th>...</th>\n",
       "      <td>...</td>\n",
       "      <td>...</td>\n",
       "      <td>...</td>\n",
       "      <td>...</td>\n",
       "      <td>...</td>\n",
       "      <td>...</td>\n",
       "      <td>...</td>\n",
       "      <td>...</td>\n",
       "      <td>...</td>\n",
       "      <td>...</td>\n",
       "      <td>...</td>\n",
       "    </tr>\n",
       "    <tr>\n",
       "      <th>95</th>\n",
       "      <td>95</td>\n",
       "      <td>A</td>\n",
       "      <td>7</td>\n",
       "      <td>25.254347</td>\n",
       "      <td>0.060585</td>\n",
       "      <td>Toys</td>\n",
       "      <td>Supplier2</td>\n",
       "      <td>06-04-2022</td>\n",
       "      <td>1216</td>\n",
       "      <td>Canada</td>\n",
       "      <td>26.637678</td>\n",
       "    </tr>\n",
       "    <tr>\n",
       "      <th>96</th>\n",
       "      <td>96</td>\n",
       "      <td>A</td>\n",
       "      <td>4</td>\n",
       "      <td>60.112114</td>\n",
       "      <td>0.146363</td>\n",
       "      <td>Toys</td>\n",
       "      <td>Supplier1</td>\n",
       "      <td>07-04-2022</td>\n",
       "      <td>1853</td>\n",
       "      <td>USA</td>\n",
       "      <td>25.426802</td>\n",
       "    </tr>\n",
       "    <tr>\n",
       "      <th>97</th>\n",
       "      <td>97</td>\n",
       "      <td>C</td>\n",
       "      <td>7</td>\n",
       "      <td>94.253930</td>\n",
       "      <td>0.053977</td>\n",
       "      <td>Electronics</td>\n",
       "      <td>Supplier1</td>\n",
       "      <td>08-04-2022</td>\n",
       "      <td>1826</td>\n",
       "      <td>Canada</td>\n",
       "      <td>11.447571</td>\n",
       "    </tr>\n",
       "    <tr>\n",
       "      <th>98</th>\n",
       "      <td>98</td>\n",
       "      <td>A</td>\n",
       "      <td>8</td>\n",
       "      <td>72.642682</td>\n",
       "      <td>0.137866</td>\n",
       "      <td>Electronics</td>\n",
       "      <td>Supplier1</td>\n",
       "      <td>09-04-2022</td>\n",
       "      <td>1794</td>\n",
       "      <td>USA</td>\n",
       "      <td>9.272190</td>\n",
       "    </tr>\n",
       "    <tr>\n",
       "      <th>99</th>\n",
       "      <td>99</td>\n",
       "      <td>A</td>\n",
       "      <td>1</td>\n",
       "      <td>61.305505</td>\n",
       "      <td>0.191035</td>\n",
       "      <td>Home</td>\n",
       "      <td>Supplier3</td>\n",
       "      <td>10-04-2022</td>\n",
       "      <td>1688</td>\n",
       "      <td>Canada</td>\n",
       "      <td>21.716081</td>\n",
       "    </tr>\n",
       "  </tbody>\n",
       "</table>\n",
       "<p>100 rows × 11 columns</p>\n",
       "</div>"
      ],
      "text/plain": [
       "    Unnamed: 0 ProductID  QuantitySold      Price  Discount     Category  \\\n",
       "0            0         C             8  75.539471  0.064576         Toys   \n",
       "1            1         A             8  43.100482  0.142251         Toys   \n",
       "2            2         C             3  66.907525  0.198508     Clothing   \n",
       "3            3         C             1  67.017674  0.071013         Home   \n",
       "4            4         A             8  58.219722  0.127749         Toys   \n",
       "..         ...       ...           ...        ...       ...          ...   \n",
       "95          95         A             7  25.254347  0.060585         Toys   \n",
       "96          96         A             4  60.112114  0.146363         Toys   \n",
       "97          97         C             7  94.253930  0.053977  Electronics   \n",
       "98          98         A             8  72.642682  0.137866  Electronics   \n",
       "99          99         A             1  61.305505  0.191035         Home   \n",
       "\n",
       "     Supplier        Date  CustomerID Country     Profit  \n",
       "0   Supplier1  01-01-2022        1148     USA  20.835021  \n",
       "1   Supplier3  02-01-2022        1079     USA  11.003640  \n",
       "2   Supplier2  03-01-2022        1885  Canada   6.896583  \n",
       "3   Supplier3  04-01-2022        1212     USA   8.221993  \n",
       "4   Supplier3  05-01-2022        1202      UK   8.201146  \n",
       "..        ...         ...         ...     ...        ...  \n",
       "95  Supplier2  06-04-2022        1216  Canada  26.637678  \n",
       "96  Supplier1  07-04-2022        1853     USA  25.426802  \n",
       "97  Supplier1  08-04-2022        1826  Canada  11.447571  \n",
       "98  Supplier1  09-04-2022        1794     USA   9.272190  \n",
       "99  Supplier3  10-04-2022        1688  Canada  21.716081  \n",
       "\n",
       "[100 rows x 11 columns]"
      ]
     },
     "execution_count": 6,
     "metadata": {},
     "output_type": "execute_result"
    }
   ],
   "source": [
    "df"
   ]
  },
  {
   "cell_type": "code",
   "execution_count": 7,
   "id": "b34dea9e",
   "metadata": {},
   "outputs": [
    {
     "data": {
      "text/plain": [
       "<bound method DataFrame.info of     Unnamed: 0 ProductID  QuantitySold      Price  Discount     Category  \\\n",
       "0            0         C             8  75.539471  0.064576         Toys   \n",
       "1            1         A             8  43.100482  0.142251         Toys   \n",
       "2            2         C             3  66.907525  0.198508     Clothing   \n",
       "3            3         C             1  67.017674  0.071013         Home   \n",
       "4            4         A             8  58.219722  0.127749         Toys   \n",
       "..         ...       ...           ...        ...       ...          ...   \n",
       "95          95         A             7  25.254347  0.060585         Toys   \n",
       "96          96         A             4  60.112114  0.146363         Toys   \n",
       "97          97         C             7  94.253930  0.053977  Electronics   \n",
       "98          98         A             8  72.642682  0.137866  Electronics   \n",
       "99          99         A             1  61.305505  0.191035         Home   \n",
       "\n",
       "     Supplier        Date  CustomerID Country     Profit  \n",
       "0   Supplier1  01-01-2022        1148     USA  20.835021  \n",
       "1   Supplier3  02-01-2022        1079     USA  11.003640  \n",
       "2   Supplier2  03-01-2022        1885  Canada   6.896583  \n",
       "3   Supplier3  04-01-2022        1212     USA   8.221993  \n",
       "4   Supplier3  05-01-2022        1202      UK   8.201146  \n",
       "..        ...         ...         ...     ...        ...  \n",
       "95  Supplier2  06-04-2022        1216  Canada  26.637678  \n",
       "96  Supplier1  07-04-2022        1853     USA  25.426802  \n",
       "97  Supplier1  08-04-2022        1826  Canada  11.447571  \n",
       "98  Supplier1  09-04-2022        1794     USA   9.272190  \n",
       "99  Supplier3  10-04-2022        1688  Canada  21.716081  \n",
       "\n",
       "[100 rows x 11 columns]>"
      ]
     },
     "execution_count": 7,
     "metadata": {},
     "output_type": "execute_result"
    }
   ],
   "source": [
    "df.info"
   ]
  },
  {
   "cell_type": "code",
   "execution_count": 8,
   "id": "b347d0a2",
   "metadata": {},
   "outputs": [
    {
     "data": {
      "text/plain": [
       "(100, 11)"
      ]
     },
     "execution_count": 8,
     "metadata": {},
     "output_type": "execute_result"
    }
   ],
   "source": [
    "df.shape"
   ]
  },
  {
   "cell_type": "code",
   "execution_count": 9,
   "id": "6c2aae84",
   "metadata": {},
   "outputs": [
    {
     "data": {
      "text/html": [
       "<div>\n",
       "<style scoped>\n",
       "    .dataframe tbody tr th:only-of-type {\n",
       "        vertical-align: middle;\n",
       "    }\n",
       "\n",
       "    .dataframe tbody tr th {\n",
       "        vertical-align: top;\n",
       "    }\n",
       "\n",
       "    .dataframe thead th {\n",
       "        text-align: right;\n",
       "    }\n",
       "</style>\n",
       "<table border=\"1\" class=\"dataframe\">\n",
       "  <thead>\n",
       "    <tr style=\"text-align: right;\">\n",
       "      <th></th>\n",
       "      <th>Unnamed: 0</th>\n",
       "      <th>ProductID</th>\n",
       "      <th>QuantitySold</th>\n",
       "      <th>Price</th>\n",
       "      <th>Discount</th>\n",
       "      <th>Category</th>\n",
       "      <th>Supplier</th>\n",
       "      <th>Date</th>\n",
       "      <th>CustomerID</th>\n",
       "      <th>Country</th>\n",
       "      <th>Profit</th>\n",
       "    </tr>\n",
       "  </thead>\n",
       "  <tbody>\n",
       "    <tr>\n",
       "      <th>0</th>\n",
       "      <td>0</td>\n",
       "      <td>C</td>\n",
       "      <td>8</td>\n",
       "      <td>75.539471</td>\n",
       "      <td>0.064576</td>\n",
       "      <td>Toys</td>\n",
       "      <td>Supplier1</td>\n",
       "      <td>01-01-2022</td>\n",
       "      <td>1148</td>\n",
       "      <td>USA</td>\n",
       "      <td>20.835021</td>\n",
       "    </tr>\n",
       "    <tr>\n",
       "      <th>1</th>\n",
       "      <td>1</td>\n",
       "      <td>A</td>\n",
       "      <td>8</td>\n",
       "      <td>43.100482</td>\n",
       "      <td>0.142251</td>\n",
       "      <td>Toys</td>\n",
       "      <td>Supplier3</td>\n",
       "      <td>02-01-2022</td>\n",
       "      <td>1079</td>\n",
       "      <td>USA</td>\n",
       "      <td>11.003640</td>\n",
       "    </tr>\n",
       "    <tr>\n",
       "      <th>2</th>\n",
       "      <td>2</td>\n",
       "      <td>C</td>\n",
       "      <td>3</td>\n",
       "      <td>66.907525</td>\n",
       "      <td>0.198508</td>\n",
       "      <td>Clothing</td>\n",
       "      <td>Supplier2</td>\n",
       "      <td>03-01-2022</td>\n",
       "      <td>1885</td>\n",
       "      <td>Canada</td>\n",
       "      <td>6.896583</td>\n",
       "    </tr>\n",
       "    <tr>\n",
       "      <th>3</th>\n",
       "      <td>3</td>\n",
       "      <td>C</td>\n",
       "      <td>1</td>\n",
       "      <td>67.017674</td>\n",
       "      <td>0.071013</td>\n",
       "      <td>Home</td>\n",
       "      <td>Supplier3</td>\n",
       "      <td>04-01-2022</td>\n",
       "      <td>1212</td>\n",
       "      <td>USA</td>\n",
       "      <td>8.221993</td>\n",
       "    </tr>\n",
       "    <tr>\n",
       "      <th>4</th>\n",
       "      <td>4</td>\n",
       "      <td>A</td>\n",
       "      <td>8</td>\n",
       "      <td>58.219722</td>\n",
       "      <td>0.127749</td>\n",
       "      <td>Toys</td>\n",
       "      <td>Supplier3</td>\n",
       "      <td>05-01-2022</td>\n",
       "      <td>1202</td>\n",
       "      <td>UK</td>\n",
       "      <td>8.201146</td>\n",
       "    </tr>\n",
       "  </tbody>\n",
       "</table>\n",
       "</div>"
      ],
      "text/plain": [
       "   Unnamed: 0 ProductID  QuantitySold      Price  Discount  Category  \\\n",
       "0           0         C             8  75.539471  0.064576      Toys   \n",
       "1           1         A             8  43.100482  0.142251      Toys   \n",
       "2           2         C             3  66.907525  0.198508  Clothing   \n",
       "3           3         C             1  67.017674  0.071013      Home   \n",
       "4           4         A             8  58.219722  0.127749      Toys   \n",
       "\n",
       "    Supplier        Date  CustomerID Country     Profit  \n",
       "0  Supplier1  01-01-2022        1148     USA  20.835021  \n",
       "1  Supplier3  02-01-2022        1079     USA  11.003640  \n",
       "2  Supplier2  03-01-2022        1885  Canada   6.896583  \n",
       "3  Supplier3  04-01-2022        1212     USA   8.221993  \n",
       "4  Supplier3  05-01-2022        1202      UK   8.201146  "
      ]
     },
     "execution_count": 9,
     "metadata": {},
     "output_type": "execute_result"
    }
   ],
   "source": [
    "df.head()"
   ]
  },
  {
   "cell_type": "code",
   "execution_count": 47,
   "id": "bb9f7378",
   "metadata": {},
   "outputs": [
    {
     "name": "stdout",
     "output_type": "stream",
     "text": [
      "Total_revenue: \n",
      " 0    565.291189\n",
      "1    295.755133\n",
      "2    160.877522\n",
      "3     62.258575\n",
      "4    406.257474\n",
      "Name: Total_Revenue_each_Product, dtype: float64\n"
     ]
    }
   ],
   "source": [
    "df['Total_Revenue_each_Product'] = df['QuantitySold'] * (1 - df['Discount']) * df['Price'] #Total Revenue for Each Product\n",
    "print(\"Total_revenue:\",\"\\n\", df['Total_Revenue_each_Product'].head())"
   ]
  },
  {
   "cell_type": "code",
   "execution_count": 42,
   "id": "3038e533",
   "metadata": {},
   "outputs": [
    {
     "name": "stdout",
     "output_type": "stream",
     "text": [
      "Total_revenue: 24466.126296904105\n"
     ]
    }
   ],
   "source": [
    "Total_revenue = df['Total_Revenue'].sum() #sum of Total Revenue for Each Product\n",
    "print(\"Total_revenue:\",Total_revenue)"
   ]
  },
  {
   "cell_type": "code",
   "execution_count": 38,
   "id": "39b5accc",
   "metadata": {},
   "outputs": [
    {
     "name": "stdout",
     "output_type": "stream",
     "text": [
      "0      3.685715\n",
      "1      3.720524\n",
      "2      4.286853\n",
      "3     13.206202\n",
      "4      2.018706\n",
      "5     19.768559\n",
      "6      3.951584\n",
      "7     63.968735\n",
      "8      8.439432\n",
      "9     15.909770\n",
      "10     5.322659\n",
      "11     4.092546\n",
      "12    25.309437\n",
      "13     2.529949\n",
      "14    19.850177\n",
      "Name: Avg_Profit_Margin, dtype: float64\n"
     ]
    }
   ],
   "source": [
    "df['Avg_Profit_Margin'] = (df['Profit'] / df['Total_Revenue']) * 100 #Calculate the average profit margin for each product.\n",
    "print(df['Avg_Profit_Margin'].head(15))"
   ]
  },
  {
   "cell_type": "code",
   "execution_count": 37,
   "id": "8e94ecef",
   "metadata": {},
   "outputs": [
    {
     "name": "stdout",
     "output_type": "stream",
     "text": [
      "ProductID\n",
      "A    13.772473\n",
      "B    17.206074\n",
      "C    15.311551\n",
      "Name: Avg_Profit_Margin, dtype: float64\n"
     ]
    }
   ],
   "source": [
    "average_profit_margin = df.groupby('ProductID')['Avg_Profit_Margin'].mean()\n",
    "print(average_profit_margin)"
   ]
  },
  {
   "cell_type": "code",
   "execution_count": 51,
   "id": "b8479e6a",
   "metadata": {},
   "outputs": [
    {
     "data": {
      "image/png": "[encoded data removed]",
      "text/plain": [
       "<Figure size 1000x600 with 1 Axes>"
      ]
     },
     "metadata": {},
     "output_type": "display_data"
    }
   ],
   "source": [
    "import matplotlib.pyplot as plt\n",
    "\n",
    "plt.figure(figsize=(10, 6))\n",
    "plt.bar(average_profit_margin.index, average_profit_margin)\n",
    "plt.xlabel('ProductID')\n",
    "plt.ylabel('Avg_Profit_Margin (%)')\n",
    "plt.title('Average Profit Margin for Each Product')\n",
    "plt.show()"
   ]
  },
  {
   "cell_type": "code",
   "execution_count": null,
   "id": "c8db012e",
   "metadata": {},
   "outputs": [],
   "source": []
  }
 ],
 "metadata": {
  "kernelspec": {
   "display_name": "Python 3 (ipykernel)",
   "language": "python",
   "name": "python3"
  },
  "language_info": {
   "codemirror_mode": {
    "name": "ipython",
    "version": 3
   },
   "file_extension": ".py",
   "mimetype": "text/x-python",
   "name": "python",
   "nbconvert_exporter": "python",
   "pygments_lexer": "ipython3",
   "version": "3.11.5"
  }
 },
 "nbformat": 4,
 "nbformat_minor": 5
}
