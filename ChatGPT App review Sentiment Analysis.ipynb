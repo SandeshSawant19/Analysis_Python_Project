{
 "cells": [
  {
   "cell_type": "markdown",
   "id": "718257dd",
   "metadata": {},
   "source": [
    "# Sentiment Analysis of ChatGPT App Reviews Using Python"
   ]
  },
  {
   "cell_type": "code",
   "execution_count": 1,
   "id": "39763ba9",
   "metadata": {},
   "outputs": [],
   "source": [
    "import pandas as pd\n",
    "\n",
    "ChatGPT_review = pd.read_csv(\"C:\\\\Users\\\\VINIT SANDESH\\\\Desktop\\\\PROJECT\\\\chatgpt_reviews.csv\")"
   ]
  },
  {
   "cell_type": "code",
   "execution_count": 2,
   "id": "059b308e",
   "metadata": {
    "scrolled": true
   },
   "outputs": [
    {
     "data": {
      "text/html": [
       "<div>\n",
       "<style scoped>\n",
       "    .dataframe tbody tr th:only-of-type {\n",
       "        vertical-align: middle;\n",
       "    }\n",
       "\n",
       "    .dataframe tbody tr th {\n",
       "        vertical-align: top;\n",
       "    }\n",
       "\n",
       "    .dataframe thead th {\n",
       "        text-align: right;\n",
       "    }\n",
       "</style>\n",
       "<table border=\"1\" class=\"dataframe\">\n",
       "  <thead>\n",
       "    <tr style=\"text-align: right;\">\n",
       "      <th></th>\n",
       "      <th>date</th>\n",
       "      <th>title</th>\n",
       "      <th>review</th>\n",
       "      <th>rating</th>\n",
       "    </tr>\n",
       "  </thead>\n",
       "  <tbody>\n",
       "    <tr>\n",
       "      <th>0</th>\n",
       "      <td>21-05-2023 16:42</td>\n",
       "      <td>Much more accessible for blind users than the ...</td>\n",
       "      <td>Up to this point I’ve mostly been using ChatGP...</td>\n",
       "      <td>4</td>\n",
       "    </tr>\n",
       "    <tr>\n",
       "      <th>1</th>\n",
       "      <td>11-07-2023 12:24</td>\n",
       "      <td>Much anticipated, wasn’t let down.</td>\n",
       "      <td>I’ve been a user since it’s initial roll out a...</td>\n",
       "      <td>4</td>\n",
       "    </tr>\n",
       "    <tr>\n",
       "      <th>2</th>\n",
       "      <td>19-05-2023 10:16</td>\n",
       "      <td>Almost 5 stars, but… no search function</td>\n",
       "      <td>This app would almost be perfect if it wasn’t ...</td>\n",
       "      <td>4</td>\n",
       "    </tr>\n",
       "    <tr>\n",
       "      <th>3</th>\n",
       "      <td>27-05-2023 21:57</td>\n",
       "      <td>4.5 stars, here’s why</td>\n",
       "      <td>I recently downloaded the app and overall, it'...</td>\n",
       "      <td>4</td>\n",
       "    </tr>\n",
       "    <tr>\n",
       "      <th>4</th>\n",
       "      <td>09-06-2023 07:49</td>\n",
       "      <td>Good, but Siri support would take it to the ne...</td>\n",
       "      <td>I appreciate the devs implementing Siri suppor...</td>\n",
       "      <td>4</td>\n",
       "    </tr>\n",
       "    <tr>\n",
       "      <th>...</th>\n",
       "      <td>...</td>\n",
       "      <td>...</td>\n",
       "      <td>...</td>\n",
       "      <td>...</td>\n",
       "    </tr>\n",
       "    <tr>\n",
       "      <th>2287</th>\n",
       "      <td>19-05-2023 00:17</td>\n",
       "      <td>Andrew Justino Wilson 5/19/23</td>\n",
       "      <td>This has to be a beginning to something crazy ...</td>\n",
       "      <td>5</td>\n",
       "    </tr>\n",
       "    <tr>\n",
       "      <th>2288</th>\n",
       "      <td>18-05-2023 19:13</td>\n",
       "      <td>Superb AI</td>\n",
       "      <td>I’ve been using chat and have been a proud pre...</td>\n",
       "      <td>5</td>\n",
       "    </tr>\n",
       "    <tr>\n",
       "      <th>2289</th>\n",
       "      <td>18-05-2023 18:27</td>\n",
       "      <td>Fantastic App with Room for Enhancements</td>\n",
       "      <td>The ChatGPT iOS app is an outstanding product....</td>\n",
       "      <td>5</td>\n",
       "    </tr>\n",
       "    <tr>\n",
       "      <th>2290</th>\n",
       "      <td>18-05-2023 17:17</td>\n",
       "      <td>Awesome technology, deplorable tactics</td>\n",
       "      <td>Sam Altman’s blatant attempt at regulatory cap...</td>\n",
       "      <td>2</td>\n",
       "    </tr>\n",
       "    <tr>\n",
       "      <th>2291</th>\n",
       "      <td>25-07-2023 00:50</td>\n",
       "      <td>I like how there r no limits thanks &lt;33</td>\n",
       "      <td>.</td>\n",
       "      <td>5</td>\n",
       "    </tr>\n",
       "  </tbody>\n",
       "</table>\n",
       "<p>2292 rows × 4 columns</p>\n",
       "</div>"
      ],
      "text/plain": [
       "                  date                                              title  \\\n",
       "0     21-05-2023 16:42  Much more accessible for blind users than the ...   \n",
       "1     11-07-2023 12:24                 Much anticipated, wasn’t let down.   \n",
       "2     19-05-2023 10:16            Almost 5 stars, but… no search function   \n",
       "3     27-05-2023 21:57                              4.5 stars, here’s why   \n",
       "4     09-06-2023 07:49  Good, but Siri support would take it to the ne...   \n",
       "...                ...                                                ...   \n",
       "2287  19-05-2023 00:17                      Andrew Justino Wilson 5/19/23   \n",
       "2288  18-05-2023 19:13                                          Superb AI   \n",
       "2289  18-05-2023 18:27           Fantastic App with Room for Enhancements   \n",
       "2290  18-05-2023 17:17             Awesome technology, deplorable tactics   \n",
       "2291  25-07-2023 00:50            I like how there r no limits thanks <33   \n",
       "\n",
       "                                                 review  rating  \n",
       "0     Up to this point I’ve mostly been using ChatGP...       4  \n",
       "1     I’ve been a user since it’s initial roll out a...       4  \n",
       "2     This app would almost be perfect if it wasn’t ...       4  \n",
       "3     I recently downloaded the app and overall, it'...       4  \n",
       "4     I appreciate the devs implementing Siri suppor...       4  \n",
       "...                                                 ...     ...  \n",
       "2287  This has to be a beginning to something crazy ...       5  \n",
       "2288  I’ve been using chat and have been a proud pre...       5  \n",
       "2289  The ChatGPT iOS app is an outstanding product....       5  \n",
       "2290  Sam Altman’s blatant attempt at regulatory cap...       2  \n",
       "2291                                                  .       5  \n",
       "\n",
       "[2292 rows x 4 columns]"
      ]
     },
     "execution_count": 2,
     "metadata": {},
     "output_type": "execute_result"
    }
   ],
   "source": [
    "ChatGPT_review"
   ]
  },
  {
   "cell_type": "markdown",
   "id": "2c12ed7e",
   "metadata": {},
   "source": [
    "# 1. Data Cleaning & Exploration"
   ]
  },
  {
   "cell_type": "code",
   "execution_count": 3,
   "id": "8c8fd78e",
   "metadata": {},
   "outputs": [
    {
     "name": "stdout",
     "output_type": "stream",
     "text": [
      "<class 'pandas.core.frame.DataFrame'>\n",
      "RangeIndex: 2292 entries, 0 to 2291\n",
      "Data columns (total 4 columns):\n",
      " #   Column  Non-Null Count  Dtype \n",
      "---  ------  --------------  ----- \n",
      " 0   date    2292 non-null   object\n",
      " 1   title   2292 non-null   object\n",
      " 2   review  2292 non-null   object\n",
      " 3   rating  2292 non-null   int64 \n",
      "dtypes: int64(1), object(3)\n",
      "memory usage: 71.8+ KB\n"
     ]
    }
   ],
   "source": [
    "ChatGPT_review.info(0)"
   ]
  },
  {
   "cell_type": "code",
   "execution_count": 5,
   "id": "aaa78dfc",
   "metadata": {},
   "outputs": [
    {
     "data": {
      "text/plain": [
       "date      2004\n",
       "title     2058\n",
       "review    2256\n",
       "rating       5\n",
       "dtype: int64"
      ]
     },
     "execution_count": 5,
     "metadata": {},
     "output_type": "execute_result"
    }
   ],
   "source": [
    "ChatGPT_review.nunique()"
   ]
  },
  {
   "cell_type": "code",
   "execution_count": 7,
   "id": "1bb2808b",
   "metadata": {
    "scrolled": true
   },
   "outputs": [
    {
     "data": {
      "text/plain": [
       "date      0\n",
       "title     0\n",
       "review    0\n",
       "rating    0\n",
       "dtype: int64"
      ]
     },
     "execution_count": 7,
     "metadata": {},
     "output_type": "execute_result"
    }
   ],
   "source": [
    "ChatGPT_review.isnull().sum()"
   ]
  },
  {
   "cell_type": "code",
   "execution_count": 25,
   "id": "80d39383",
   "metadata": {},
   "outputs": [],
   "source": [
    "ChatGPT_review.rename(columns = {\"rating\" : \"Rating\"}, inplace = True )\n",
    "ChatGPT_review.rename(columns = {\"review\" : \"Review\"}, inplace = True )\n",
    "ChatGPT_review.rename(columns = {\"title\" : \"Title\"}, inplace = True )\n",
    "ChatGPT_review.rename(columns = {\"date\" : \"Date\"}, inplace = True )"
   ]
  },
  {
   "cell_type": "code",
   "execution_count": 26,
   "id": "77253efa",
   "metadata": {},
   "outputs": [],
   "source": [
    "import matplotlib.pyplot as plt\n",
    "import seaborn as sns"
   ]
  },
  {
   "cell_type": "code",
   "execution_count": 27,
   "id": "f724a123",
   "metadata": {},
   "outputs": [
    {
     "data": {
      "text/html": [
       "<div>\n",
       "<style scoped>\n",
       "    .dataframe tbody tr th:only-of-type {\n",
       "        vertical-align: middle;\n",
       "    }\n",
       "\n",
       "    .dataframe tbody tr th {\n",
       "        vertical-align: top;\n",
       "    }\n",
       "\n",
       "    .dataframe thead th {\n",
       "        text-align: right;\n",
       "    }\n",
       "</style>\n",
       "<table border=\"1\" class=\"dataframe\">\n",
       "  <thead>\n",
       "    <tr style=\"text-align: right;\">\n",
       "      <th></th>\n",
       "      <th>Date</th>\n",
       "      <th>Title</th>\n",
       "      <th>Review</th>\n",
       "      <th>Rating</th>\n",
       "    </tr>\n",
       "  </thead>\n",
       "  <tbody>\n",
       "    <tr>\n",
       "      <th>0</th>\n",
       "      <td>21-05-2023 16:42</td>\n",
       "      <td>Much more accessible for blind users than the ...</td>\n",
       "      <td>Up to this point I’ve mostly been using ChatGP...</td>\n",
       "      <td>4</td>\n",
       "    </tr>\n",
       "    <tr>\n",
       "      <th>1</th>\n",
       "      <td>11-07-2023 12:24</td>\n",
       "      <td>Much anticipated, wasn’t let down.</td>\n",
       "      <td>I’ve been a user since it’s initial roll out a...</td>\n",
       "      <td>4</td>\n",
       "    </tr>\n",
       "    <tr>\n",
       "      <th>2</th>\n",
       "      <td>19-05-2023 10:16</td>\n",
       "      <td>Almost 5 stars, but… no search function</td>\n",
       "      <td>This app would almost be perfect if it wasn’t ...</td>\n",
       "      <td>4</td>\n",
       "    </tr>\n",
       "    <tr>\n",
       "      <th>3</th>\n",
       "      <td>27-05-2023 21:57</td>\n",
       "      <td>4.5 stars, here’s why</td>\n",
       "      <td>I recently downloaded the app and overall, it'...</td>\n",
       "      <td>4</td>\n",
       "    </tr>\n",
       "    <tr>\n",
       "      <th>4</th>\n",
       "      <td>09-06-2023 07:49</td>\n",
       "      <td>Good, but Siri support would take it to the ne...</td>\n",
       "      <td>I appreciate the devs implementing Siri suppor...</td>\n",
       "      <td>4</td>\n",
       "    </tr>\n",
       "    <tr>\n",
       "      <th>5</th>\n",
       "      <td>31-05-2023 10:20</td>\n",
       "      <td>App review</td>\n",
       "      <td>No doubt, this technology is absolutely life-c...</td>\n",
       "      <td>1</td>\n",
       "    </tr>\n",
       "    <tr>\n",
       "      <th>6</th>\n",
       "      <td>23-06-2023 08:10</td>\n",
       "      <td>Almost perfect except for…</td>\n",
       "      <td>Please provide a TABLET experience on iPad wit...</td>\n",
       "      <td>3</td>\n",
       "    </tr>\n",
       "    <tr>\n",
       "      <th>7</th>\n",
       "      <td>04-07-2023 19:02</td>\n",
       "      <td>Chat GPT: The Underrated Buddy in Your Pocket\"</td>\n",
       "      <td>Chat GPT is seriously underrated, dude! I mean...</td>\n",
       "      <td>4</td>\n",
       "    </tr>\n",
       "    <tr>\n",
       "      <th>8</th>\n",
       "      <td>18-05-2023 21:10</td>\n",
       "      <td>Nice and quick!</td>\n",
       "      <td>On this app, as opposed to on the website, it ...</td>\n",
       "      <td>5</td>\n",
       "    </tr>\n",
       "    <tr>\n",
       "      <th>9</th>\n",
       "      <td>15-06-2023 15:39</td>\n",
       "      <td>The app of all apps for AI</td>\n",
       "      <td>There’s been times of apps touting they are ch...</td>\n",
       "      <td>5</td>\n",
       "    </tr>\n",
       "  </tbody>\n",
       "</table>\n",
       "</div>"
      ],
      "text/plain": [
       "               Date                                              Title  \\\n",
       "0  21-05-2023 16:42  Much more accessible for blind users than the ...   \n",
       "1  11-07-2023 12:24                 Much anticipated, wasn’t let down.   \n",
       "2  19-05-2023 10:16            Almost 5 stars, but… no search function   \n",
       "3  27-05-2023 21:57                              4.5 stars, here’s why   \n",
       "4  09-06-2023 07:49  Good, but Siri support would take it to the ne...   \n",
       "5  31-05-2023 10:20                                         App review   \n",
       "6  23-06-2023 08:10                         Almost perfect except for…   \n",
       "7  04-07-2023 19:02     Chat GPT: The Underrated Buddy in Your Pocket\"   \n",
       "8  18-05-2023 21:10                                    Nice and quick!   \n",
       "9  15-06-2023 15:39                         The app of all apps for AI   \n",
       "\n",
       "                                              Review  Rating  \n",
       "0  Up to this point I’ve mostly been using ChatGP...       4  \n",
       "1  I’ve been a user since it’s initial roll out a...       4  \n",
       "2  This app would almost be perfect if it wasn’t ...       4  \n",
       "3  I recently downloaded the app and overall, it'...       4  \n",
       "4  I appreciate the devs implementing Siri suppor...       4  \n",
       "5  No doubt, this technology is absolutely life-c...       1  \n",
       "6  Please provide a TABLET experience on iPad wit...       3  \n",
       "7  Chat GPT is seriously underrated, dude! I mean...       4  \n",
       "8  On this app, as opposed to on the website, it ...       5  \n",
       "9  There’s been times of apps touting they are ch...       5  "
      ]
     },
     "execution_count": 27,
     "metadata": {},
     "output_type": "execute_result"
    }
   ],
   "source": [
    "ChatGPT_review.head(10)"
   ]
  },
  {
   "cell_type": "markdown",
   "id": "65a85da7",
   "metadata": {},
   "source": [
    "# 2. Analysis of Rating Trends"
   ]
  },
  {
   "cell_type": "code",
   "execution_count": 57,
   "id": "ba3cc26c",
   "metadata": {},
   "outputs": [
    {
     "data": {
      "image/png": "[encoded data removed]",
      "text/plain": [
       "<Figure size 500x500 with 1 Axes>"
      ]
     },
     "metadata": {},
     "output_type": "display_data"
    }
   ],
   "source": [
    "sns.set(style=\"whitegrid\")\n",
    "\n",
    "plt.figure(figsize=(5,5))\n",
    "\n",
    "sns.countplot(data=ChatGPT_review, x='Rating')\n",
    "\n",
    "plt.title('Ratings Breakdown')\n",
    "plt.xlabel('Rating')\n",
    "plt.ylabel('Count')\n",
    "\n",
    "plt.show()"
   ]
  },
  {
   "cell_type": "code",
   "execution_count": 33,
   "id": "a349ec74",
   "metadata": {
    "scrolled": true
   },
   "outputs": [
    {
     "name": "stdout",
     "output_type": "stream",
     "text": [
      "Defaulting to user installation because normal site-packages is not writeable\n",
      "Requirement already satisfied: textblob in c:\\users\\vinit sandesh\\appdata\\roaming\\python\\python311\\site-packages (0.17.1)\n",
      "Requirement already satisfied: nltk>=3.1 in c:\\programdata\\anaconda3\\lib\\site-packages (from textblob) (3.8.1)\n",
      "Requirement already satisfied: click in c:\\programdata\\anaconda3\\lib\\site-packages (from nltk>=3.1->textblob) (8.0.4)\n",
      "Requirement already satisfied: joblib in c:\\programdata\\anaconda3\\lib\\site-packages (from nltk>=3.1->textblob) (1.2.0)\n",
      "Requirement already satisfied: regex>=2021.8.3 in c:\\programdata\\anaconda3\\lib\\site-packages (from nltk>=3.1->textblob) (2022.7.9)\n",
      "Requirement already satisfied: tqdm in c:\\programdata\\anaconda3\\lib\\site-packages (from nltk>=3.1->textblob) (4.65.0)\n",
      "Requirement already satisfied: colorama in c:\\programdata\\anaconda3\\lib\\site-packages (from click->nltk>=3.1->textblob) (0.4.6)\n"
     ]
    }
   ],
   "source": [
    "!pip install textblob"
   ]
  },
  {
   "cell_type": "markdown",
   "id": "d8de5cc0",
   "metadata": {},
   "source": [
    "# Textblob_Sentiment_Analysis"
   ]
  },
  {
   "cell_type": "code",
   "execution_count": 34,
   "id": "871a3b6d",
   "metadata": {},
   "outputs": [],
   "source": [
    "from textblob import TextBlob"
   ]
  },
  {
   "cell_type": "code",
   "execution_count": 37,
   "id": "88993157",
   "metadata": {},
   "outputs": [],
   "source": [
    "def textblob_Sentiment_Analysis(Review):\n",
    "    \n",
    "    Sentiment_Analysis = TextBlob(Review).sentiment\n",
    "    \n",
    "    if Sentiment_Analysis.polarity > 0.1:\n",
    "        return \"Positive\"\n",
    "    elif Sentiment_Analysis.polarity < -0.1:\n",
    "        return \"Negative\"\n",
    "    else: \n",
    "        return \"Neutral\"\n",
    "    "
   ]
  },
  {
   "cell_type": "code",
   "execution_count": 41,
   "id": "6fe61f33",
   "metadata": {
    "scrolled": true
   },
   "outputs": [
    {
     "data": {
      "text/html": [
       "<div>\n",
       "<style scoped>\n",
       "    .dataframe tbody tr th:only-of-type {\n",
       "        vertical-align: middle;\n",
       "    }\n",
       "\n",
       "    .dataframe tbody tr th {\n",
       "        vertical-align: top;\n",
       "    }\n",
       "\n",
       "    .dataframe thead th {\n",
       "        text-align: right;\n",
       "    }\n",
       "</style>\n",
       "<table border=\"1\" class=\"dataframe\">\n",
       "  <thead>\n",
       "    <tr style=\"text-align: right;\">\n",
       "      <th></th>\n",
       "      <th>Date</th>\n",
       "      <th>Title</th>\n",
       "      <th>Review</th>\n",
       "      <th>Rating</th>\n",
       "      <th>Sentiment</th>\n",
       "    </tr>\n",
       "  </thead>\n",
       "  <tbody>\n",
       "    <tr>\n",
       "      <th>0</th>\n",
       "      <td>21-05-2023 16:42</td>\n",
       "      <td>Much more accessible for blind users than the ...</td>\n",
       "      <td>Up to this point I’ve mostly been using ChatGP...</td>\n",
       "      <td>4</td>\n",
       "      <td>Positive</td>\n",
       "    </tr>\n",
       "    <tr>\n",
       "      <th>1</th>\n",
       "      <td>11-07-2023 12:24</td>\n",
       "      <td>Much anticipated, wasn’t let down.</td>\n",
       "      <td>I’ve been a user since it’s initial roll out a...</td>\n",
       "      <td>4</td>\n",
       "      <td>Positive</td>\n",
       "    </tr>\n",
       "    <tr>\n",
       "      <th>2</th>\n",
       "      <td>19-05-2023 10:16</td>\n",
       "      <td>Almost 5 stars, but… no search function</td>\n",
       "      <td>This app would almost be perfect if it wasn’t ...</td>\n",
       "      <td>4</td>\n",
       "      <td>Positive</td>\n",
       "    </tr>\n",
       "    <tr>\n",
       "      <th>3</th>\n",
       "      <td>27-05-2023 21:57</td>\n",
       "      <td>4.5 stars, here’s why</td>\n",
       "      <td>I recently downloaded the app and overall, it'...</td>\n",
       "      <td>4</td>\n",
       "      <td>Positive</td>\n",
       "    </tr>\n",
       "    <tr>\n",
       "      <th>4</th>\n",
       "      <td>09-06-2023 07:49</td>\n",
       "      <td>Good, but Siri support would take it to the ne...</td>\n",
       "      <td>I appreciate the devs implementing Siri suppor...</td>\n",
       "      <td>4</td>\n",
       "      <td>Positive</td>\n",
       "    </tr>\n",
       "    <tr>\n",
       "      <th>...</th>\n",
       "      <td>...</td>\n",
       "      <td>...</td>\n",
       "      <td>...</td>\n",
       "      <td>...</td>\n",
       "      <td>...</td>\n",
       "    </tr>\n",
       "    <tr>\n",
       "      <th>2287</th>\n",
       "      <td>19-05-2023 00:17</td>\n",
       "      <td>Andrew Justino Wilson 5/19/23</td>\n",
       "      <td>This has to be a beginning to something crazy ...</td>\n",
       "      <td>5</td>\n",
       "      <td>Negative</td>\n",
       "    </tr>\n",
       "    <tr>\n",
       "      <th>2288</th>\n",
       "      <td>18-05-2023 19:13</td>\n",
       "      <td>Superb AI</td>\n",
       "      <td>I’ve been using chat and have been a proud pre...</td>\n",
       "      <td>5</td>\n",
       "      <td>Positive</td>\n",
       "    </tr>\n",
       "    <tr>\n",
       "      <th>2289</th>\n",
       "      <td>18-05-2023 18:27</td>\n",
       "      <td>Fantastic App with Room for Enhancements</td>\n",
       "      <td>The ChatGPT iOS app is an outstanding product....</td>\n",
       "      <td>5</td>\n",
       "      <td>Positive</td>\n",
       "    </tr>\n",
       "    <tr>\n",
       "      <th>2290</th>\n",
       "      <td>18-05-2023 17:17</td>\n",
       "      <td>Awesome technology, deplorable tactics</td>\n",
       "      <td>Sam Altman’s blatant attempt at regulatory cap...</td>\n",
       "      <td>2</td>\n",
       "      <td>Negative</td>\n",
       "    </tr>\n",
       "    <tr>\n",
       "      <th>2291</th>\n",
       "      <td>25-07-2023 00:50</td>\n",
       "      <td>I like how there r no limits thanks &lt;33</td>\n",
       "      <td>.</td>\n",
       "      <td>5</td>\n",
       "      <td>Neutral</td>\n",
       "    </tr>\n",
       "  </tbody>\n",
       "</table>\n",
       "<p>2292 rows × 5 columns</p>\n",
       "</div>"
      ],
      "text/plain": [
       "                  Date                                              Title  \\\n",
       "0     21-05-2023 16:42  Much more accessible for blind users than the ...   \n",
       "1     11-07-2023 12:24                 Much anticipated, wasn’t let down.   \n",
       "2     19-05-2023 10:16            Almost 5 stars, but… no search function   \n",
       "3     27-05-2023 21:57                              4.5 stars, here’s why   \n",
       "4     09-06-2023 07:49  Good, but Siri support would take it to the ne...   \n",
       "...                ...                                                ...   \n",
       "2287  19-05-2023 00:17                      Andrew Justino Wilson 5/19/23   \n",
       "2288  18-05-2023 19:13                                          Superb AI   \n",
       "2289  18-05-2023 18:27           Fantastic App with Room for Enhancements   \n",
       "2290  18-05-2023 17:17             Awesome technology, deplorable tactics   \n",
       "2291  25-07-2023 00:50            I like how there r no limits thanks <33   \n",
       "\n",
       "                                                 Review  Rating Sentiment  \n",
       "0     Up to this point I’ve mostly been using ChatGP...       4  Positive  \n",
       "1     I’ve been a user since it’s initial roll out a...       4  Positive  \n",
       "2     This app would almost be perfect if it wasn’t ...       4  Positive  \n",
       "3     I recently downloaded the app and overall, it'...       4  Positive  \n",
       "4     I appreciate the devs implementing Siri suppor...       4  Positive  \n",
       "...                                                 ...     ...       ...  \n",
       "2287  This has to be a beginning to something crazy ...       5  Negative  \n",
       "2288  I’ve been using chat and have been a proud pre...       5  Positive  \n",
       "2289  The ChatGPT iOS app is an outstanding product....       5  Positive  \n",
       "2290  Sam Altman’s blatant attempt at regulatory cap...       2  Negative  \n",
       "2291                                                  .       5   Neutral  \n",
       "\n",
       "[2292 rows x 5 columns]"
      ]
     },
     "execution_count": 41,
     "metadata": {},
     "output_type": "execute_result"
    }
   ],
   "source": [
    "ChatGPT_review['Sentiment']=ChatGPT_review['Review'].apply(textblob_Sentiment_Analysis)\n",
    "ChatGPT_review"
   ]
  },
  {
   "cell_type": "markdown",
   "id": "a2adf115",
   "metadata": {},
   "source": [
    "# Sentiment Breakdown Analysis"
   ]
  },
  {
   "cell_type": "code",
   "execution_count": 43,
   "id": "9ba7ddbd",
   "metadata": {},
   "outputs": [],
   "source": [
    "Sentiment_Breakdown = ChatGPT_review['Sentiment'].value_counts()"
   ]
  },
  {
   "cell_type": "code",
   "execution_count": 52,
   "id": "fa8398c5",
   "metadata": {},
   "outputs": [
    {
     "data": {
      "image/png": "[encoded data removed]",
      "text/plain": [
       "<Figure size 700x500 with 1 Axes>"
      ]
     },
     "metadata": {},
     "output_type": "display_data"
    }
   ],
   "source": [
    "plt.figure(figsize=(7, 5))\n",
    "sns.barplot(x=Sentiment_Breakdown.index, y=Sentiment_Breakdown.values)\n",
    "\n",
    "plt.title('Sentiment Breakdown')\n",
    "plt.xlabel('Sentiment')\n",
    "plt.ylabel('Count')\n",
    "\n",
    "plt.show()"
   ]
  },
  {
   "cell_type": "markdown",
   "id": "46d24dbd",
   "metadata": {},
   "source": [
    "# Relationship between the sentiments and the ratings"
   ]
  },
  {
   "cell_type": "code",
   "execution_count": 54,
   "id": "1869544a",
   "metadata": {},
   "outputs": [
    {
     "data": {
      "image/png": "[encoded data removed]",
      "text/plain": [
       "<Figure size 1000x500 with 1 Axes>"
      ]
     },
     "metadata": {},
     "output_type": "display_data"
    }
   ],
   "source": [
    "plt.figure(figsize=(10, 5))\n",
    "sns.countplot(data=ChatGPT_review, x='Rating', hue='Sentiment')\n",
    "\n",
    "plt.title('Sentiment Distribution Across Ratings')\n",
    "plt.xlabel('Rating')\n",
    "plt.ylabel('Count')\n",
    "plt.legend(title='Sentiment')\n",
    "\n",
    "plt.show()"
   ]
  },
  {
   "cell_type": "code",
   "execution_count": null,
   "id": "2bbc9fdb",
   "metadata": {},
   "outputs": [],
   "source": []
  }
 ],
 "metadata": {
  "kernelspec": {
   "display_name": "Python 3 (ipykernel)",
   "language": "python",
   "name": "python3"
  },
  "language_info": {
   "codemirror_mode": {
    "name": "ipython",
    "version": 3
   },
   "file_extension": ".py",
   "mimetype": "text/x-python",
   "name": "python",
   "nbconvert_exporter": "python",
   "pygments_lexer": "ipython3",
   "version": "3.11.5"
  }
 },
 "nbformat": 4,
 "nbformat_minor": 5
}
